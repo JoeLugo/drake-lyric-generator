{
 "cells": [
  {
   "cell_type": "code",
   "execution_count": 87,
   "metadata": {},
   "outputs": [],
   "source": [
    "from __future__ import print_function\n",
    "from keras.callbacks import LambdaCallback\n",
    "from keras.models import Sequential\n",
    "from keras.layers import Dense, Activation\n",
    "from keras.layers import LSTM\n",
    "from keras.optimizers import RMSprop, Adam\n",
    "from keras.utils.data_utils import get_file\n",
    "import numpy as np\n",
    "import pandas as pd\n",
    "import random\n",
    "import sys\n",
    "import io"
   ]
  },
  {
   "cell_type": "code",
   "execution_count": 67,
   "metadata": {},
   "outputs": [],
   "source": [
    "songs = pd.read_csv('data/drake-songs.csv')"
   ]
  },
  {
   "cell_type": "code",
   "execution_count": 68,
   "metadata": {},
   "outputs": [
    {
     "data": {
      "text/plain": [
       "374611"
      ]
     },
     "execution_count": 68,
     "metadata": {},
     "output_type": "execute_result"
    }
   ],
   "source": [
    "text = ''\n",
    "\n",
    "for index, row in songs['lyrics'].iteritems():\n",
    "    text = text + str(row).lower().replace('|-|', '\\n')\n",
    "    \n",
    "len(text)"
   ]
  },
  {
   "cell_type": "code",
   "execution_count": 81,
   "metadata": {},
   "outputs": [
    {
     "name": "stdout",
     "output_type": "stream",
     "text": [
      "total chars: 54\n"
     ]
    }
   ],
   "source": [
    "chars = sorted(list(set(text)))\n",
    "print('total chars:', len(chars))\n",
    "char_indices = dict((c, i) for i, c in enumerate(chars))\n",
    "indices_char = dict((i, c) for i, c in enumerate(chars))"
   ]
  },
  {
   "cell_type": "code",
   "execution_count": 82,
   "metadata": {
    "scrolled": true
   },
   "outputs": [
    {
     "name": "stdout",
     "output_type": "stream",
     "text": [
      "nb sequences: 124857\n"
     ]
    }
   ],
   "source": [
    "# cut the text in semi-redundant sequences of maxlen characters\n",
    "maxlen = 40\n",
    "step = 3\n",
    "sentences = []\n",
    "next_chars = []\n",
    "\n",
    "for i in range(0, len(text) - maxlen, step):\n",
    "    sentences.append(text[i: i + maxlen])\n",
    "    next_chars.append(text[i + maxlen])\n",
    "    \n",
    "print('nb sequences:', len(sentences))"
   ]
  },
  {
   "cell_type": "code",
   "execution_count": 83,
   "metadata": {},
   "outputs": [
    {
     "name": "stdout",
     "output_type": "stream",
     "text": [
      "Vectorization...\n"
     ]
    }
   ],
   "source": [
    "print('Vectorization...')\n",
    "\n",
    "x = np.zeros((len(sentences), maxlen, len(chars)), dtype=np.bool)\n",
    "y = np.zeros((len(sentences), len(chars)), dtype=np.bool)\n",
    "\n",
    "for i, sentence in enumerate(sentences):\n",
    "    for t, char in enumerate(sentence):\n",
    "        x[i, t, char_indices[char]] = 1\n",
    "    y[i, char_indices[next_chars[i]]] = 1"
   ]
  },
  {
   "cell_type": "code",
   "execution_count": 93,
   "metadata": {},
   "outputs": [
    {
     "name": "stdout",
     "output_type": "stream",
     "text": [
      "Build model...\n"
     ]
    }
   ],
   "source": [
    "# build the model: a single LSTM\n",
    "print('Build model...')\n",
    "model = Sequential()\n",
    "model.add(LSTM(128, input_shape=(maxlen, len(chars))))\n",
    "model.add(Dense(len(chars)))\n",
    "model.add(Activation('softmax'))\n",
    "\n",
    "model.compile(loss='categorical_crossentropy', optimizer=RMSprop(lr=0.01))"
   ]
  },
  {
   "cell_type": "code",
   "execution_count": 94,
   "metadata": {},
   "outputs": [
    {
     "name": "stdout",
     "output_type": "stream",
     "text": [
      "_________________________________________________________________\n",
      "Layer (type)                 Output Shape              Param #   \n",
      "=================================================================\n",
      "lstm_3 (LSTM)                (None, 128)               93696     \n",
      "_________________________________________________________________\n",
      "dense_3 (Dense)              (None, 54)                6966      \n",
      "_________________________________________________________________\n",
      "activation_3 (Activation)    (None, 54)                0         \n",
      "=================================================================\n",
      "Total params: 100,662\n",
      "Trainable params: 100,662\n",
      "Non-trainable params: 0\n",
      "_________________________________________________________________\n"
     ]
    }
   ],
   "source": [
    "model.summary()"
   ]
  },
  {
   "cell_type": "code",
   "execution_count": 95,
   "metadata": {},
   "outputs": [],
   "source": [
    "def sample(preds, temperature=1.0):\n",
    "    preds = np.asarray(preds).astype('float64')\n",
    "    preds = np.log(preds) / temperature\n",
    "    exp_preds = np.exp(preds)\n",
    "    preds = exp_preds / np.sum(exp_preds)\n",
    "    probas = np.random.multinomial(1, preds, 1)\n",
    "    return np.argmax(probas)"
   ]
  },
  {
   "cell_type": "code",
   "execution_count": 96,
   "metadata": {},
   "outputs": [],
   "source": [
    "def on_epoch_end(epoch, logs):\n",
    "    print('----- Generating text after Epoch: %d' % epoch)\n",
    "\n",
    "    start_index = random.randint(0, len(text) - maxlen - 1)\n",
    "    for diversity in [0.2, 0.5]:\n",
    "        print('----- diversity:', diversity)\n",
    "\n",
    "        generated = ''\n",
    "        sentence = text[start_index: start_index + maxlen]\n",
    "        generated += sentence\n",
    "        print('----- Generating with seed: \"' + sentence + '\"')\n",
    "        sys.stdout.write(generated)\n",
    "\n",
    "        for i in range(400):\n",
    "            x_pred = np.zeros((1, maxlen, len(chars)))\n",
    "            for t, char in enumerate(sentence):\n",
    "                x_pred[0, t, char_indices[char]] = 1.\n",
    "\n",
    "            preds = model.predict(x_pred, verbose=0)[0]\n",
    "            next_index = sample(preds, diversity)\n",
    "            next_char = indices_char[next_index]\n",
    "\n",
    "            generated += next_char\n",
    "            sentence = sentence[1:] + next_char\n",
    "\n",
    "            sys.stdout.write(next_char)\n",
    "            sys.stdout.flush()\n",
    "        print()"
   ]
  },
  {
   "cell_type": "code",
   "execution_count": null,
   "metadata": {},
   "outputs": [
    {
     "name": "stdout",
     "output_type": "stream",
     "text": [
      "Epoch 1/30\n",
      "124857/124857 [==============================] - 124s 994us/step - loss: 2.0391\n",
      "----- Generating text after Epoch: 0\n",
      "----- diversity: 0.2\n",
      "----- Generating with seed: \"y, nah\n",
      "never let these niggas ride your \"\n",
      "y, nah\n",
      "never let these niggas ride your shit it the cand on the say\n",
      "i gotta shit in my mind on the cand that i got the candes\n",
      "i gotta spit i me fuck and the cande\n",
      "i got and the cands it\n",
      "i got the fucking that i gotta spit it that i got the cand that i gotta scarted that i gotta that i gotta shit it it shit i got the cand it betting for the cand but it that i got the cands cand that i say it that you can't go to the cande that i got and \n",
      "----- diversity: 0.5\n",
      "----- Generating with seed: \"y, nah\n",
      "never let these niggas ride your \"\n",
      "y, nah\n",
      "never let these niggas ride your back fuck all me cante i should to to you got of the that i have now that i spould the cand\n",
      "i all me cans\n",
      "but i wan' put thing girl cands it and go and you say, you can't surting to that but i saying cand good fuck with shit that shit that's me bance\n",
      "i say, that's with that's suck in this that and i go doniggas makin' like it like the gual mak\n",
      "i'm spout and of me of in the cand ting cullin' bet it\n",
      "Epoch 2/30\n",
      "124857/124857 [==============================] - 117s 934us/step - loss: 1.6587\n",
      "----- Generating text after Epoch: 1\n",
      "----- diversity: 0.2\n",
      "----- Generating with seed: \"t niggas with a deal\n",
      "couldn't make a gre\"\n",
      "t niggas with a deal\n",
      "couldn't make a greate the same it the stay it it the some the same the stay\n",
      "you know i'm on\n",
      "you gotta say\n",
      "i gotta stack and the stay the summer\n",
      "i don't gotta stall me\n",
      "i got the same it the stay it that's the fuck the stay the fuck the trape to me\n",
      "i'm some been the stay it back and the stay it the fuck and tell me for the some the same that shit be the seate on the from the fuck the same it on my be the pastand\n",
      "i'm \n",
      "----- diversity: 0.5\n",
      "----- Generating with seed: \"t niggas with a deal\n",
      "couldn't make a gre\"\n",
      "t niggas with a deal\n",
      "couldn't make a greated it the man, like for me\n",
      "better\n",
      "make on money before that's up and gotta got a good\n",
      "i can't can't want all theme like a life, i don't know how i'm been and been don't don't it that like the one coming like i can't get that the potion\n",
      "i started the same it up it\n",
      "got the canghong back and bounch\n",
      "i don't can't stay work on the and that's the same out the pleceries that you to chengers on you be u\n",
      "Epoch 3/30\n",
      "124857/124857 [==============================] - 115s 919us/step - loss: 1.5482\n",
      "----- Generating text after Epoch: 2\n",
      "----- diversity: 0.2\n",
      "----- Generating with seed: \"from it\n",
      "backstage at warehouse in '09 li\"\n",
      "from it\n",
      "backstage at warehouse in '09 like i see me i need my love you should be a love my like i got the things things this shit things things i need to let the bass the same on my playe i think i got the same i been way the shit be the can the shit i want the same this shit be the same that i got the same the shit the same somebody got the stay the shit shit things on the summer the bout the shit is the same things things i got the be\n",
      "----- diversity: 0.5\n",
      "----- Generating with seed: \"from it\n",
      "backstage at warehouse in '09 li\"\n",
      "from it\n",
      "backstage at warehouse in '09 like you got the conders on the like you should never have some show been that shit a never think they can all really have nigga down, but you think i got the sone things they been it's on my lably things\n",
      "you want all you want it like you down, i veysin' on me on the shit some it got that i can put i love you really somebody be the like you could love you things i've need you fancy, heard it i can't\n",
      "Epoch 4/30\n",
      "124857/124857 [==============================] - 122s 975us/step - loss: 1.4854\n",
      "----- Generating text after Epoch: 3\n",
      "----- diversity: 0.2\n",
      "----- Generating with seed: \"in the cityi know you've been hurt by so\"\n",
      "in the cityi know you've been hurt by something the carner on me so i got the same a preter\n",
      "i got a lot of my for me and the carn the same a mother on the care the same and i got me and my same the same and i can see my same a good the same and i can't say you want the same the play to me and my same on my one that i got me a mother on the same and the care the play it all the carnter on me calling the same the same that i'm a way with \n",
      "----- diversity: 0.5\n",
      "----- Generating with seed: \"in the cityi know you've been hurt by so\"\n",
      "in the cityi know you've been hurt by someone it it off the new no the sthey never controlly on a lous, me i can see that shit, and i can really really be the money i can't be the mention\n",
      "i can't see my do me on my hand\n",
      "come on that shit the summer the bottom us\n",
      "you can't still me to back all the the say\n",
      "you say you can tell me wasn't change the clotions it as it love someone they lovin' that i in your exation, i'm on a really niggas it\n",
      "Epoch 5/30\n",
      "124857/124857 [==============================] - 128s 1ms/step - loss: 1.4412\n",
      "----- Generating text after Epoch: 4\n",
      "----- diversity: 0.2\n",
      "----- Generating with seed: \"er it all\n",
      "what am i doing?\n",
      "what am i doi\"\n",
      "er it all\n",
      "what am i doing?\n",
      "what am i doing me a more it\n",
      "i got a good to the things i got the street\n",
      "i got a girl on me\n",
      "i got a good to me\n",
      "stay and girl it to the cand\n",
      "i got the start it\n",
      "i got a good to me\n",
      "i got the card to the streets when you know when i should be the canger the same that i got the card the carson the street\n",
      "i got the call the street\n",
      "i got a good on me on me\n",
      "i got the can shit\n",
      "i got the can the street thing, i got the \n",
      "----- diversity: 0.5\n",
      "----- Generating with seed: \"er it all\n",
      "what am i doing?\n",
      "what am i doi\"\n",
      "er it all\n",
      "what am i doing?\n",
      "what am i doing like my girls in the carda\n",
      "you know how i should take the cash better girl i could got a really things big to me\n",
      "no big no dais more on the city right, you can't have to out the posic\n",
      "i was a gight to it and they could fuckers all niggas who you the drissis like a money\n",
      "i got the play\n",
      "they know when i can't ever dod it ain't my feelery when you still better than they on that but you know when y\n",
      "Epoch 6/30\n",
      "124857/124857 [==============================] - 132s 1ms/step - loss: 1.4058\n",
      "----- Generating text after Epoch: 5\n",
      "----- diversity: 0.2\n",
      "----- Generating with seed: \"scared of me.\n",
      "please dont be scared of m\"\n",
      "scared of me.\n",
      "please dont be scared of me\n",
      "i stay to say the way to the stay\n",
      "i got the closent that i should the shit the start the way to the way to the shit that i stay that i got the way that i should the think i come that i got a shot of me\n",
      "the way that i know it we gon' think i got the best the thing the things i can see me\n",
      "they gon' think it think i got the way the play the thing the start that shit\n",
      "i got the money to say the come \n",
      "----- diversity: 0.5\n",
      "----- Generating with seed: \"scared of me.\n",
      "please dont be scared of m\"\n",
      "scared of me.\n",
      "please dont be scared of me\n",
      "can shit that i ain't done that i come it\n",
      "the made some the what i come with the way not the come then and money stand the ttast\n",
      "i got me on my friends, we start to have to me, right now?\n",
      "i'm always chard now me, i'm listen, i'm a chase\n",
      "i stay the ropes nigga\n",
      "i need the closent more, we can the same the the streets when i stay for me\n",
      "i still all think had me on the thing it's with the play that \n",
      "Epoch 7/30\n",
      "124857/124857 [==============================] - 126s 1ms/step - loss: 1.3809\n",
      "----- Generating text after Epoch: 6\n",
      "----- diversity: 0.2\n",
      "----- Generating with seed: \"c4\n",
      "20, keep the bar rolling\n",
      "fake ids and\"\n",
      "c4\n",
      "20, keep the bar rolling\n",
      "fake ids and it and i don't take to go on the could go the started to then i don't gone me and my niggas that i don't say to the car to my place\n",
      "we gone it i did the care to me and my niggas\n",
      "i got a shot it on my way\n",
      "fuck all you know it for me\n",
      "i got it on my sould to did it\n",
      "i did it own it\n",
      "own it own it\n",
      "own it own it own it own it own it own it own it\n",
      "own it\n",
      "own it own it own it\n",
      "oh yeah, you know it too good\n",
      "----- diversity: 0.5\n",
      "----- Generating with seed: \"c4\n",
      "20, keep the bar rolling\n",
      "fake ids and\"\n",
      "c4\n",
      "20, keep the bar rolling\n",
      "fake ids and it and i sit it\n",
      "i can't have for me for a predica\n",
      "i don't know what i was bet the fuck the cate the started to love you\n",
      "i've been what you say you don't really hold like the slated the phone is it like i'm love me\n"
     ]
    },
    {
     "name": "stdout",
     "output_type": "stream",
     "text": [
      "and i know the money be my ecee friends all back and niggas on my place\n",
      "damn, you still for the hain for me\n",
      "i said i'm a mighand and still fuckin' love on my mild\n",
      "i go niggas party neve\n",
      "Epoch 8/30\n",
      "124857/124857 [==============================] - 126s 1ms/step - loss: 1.3567\n",
      "----- Generating text after Epoch: 7\n",
      "----- diversity: 0.2\n",
      "----- Generating with seed: \"jay and chubbo, shout to gibo\n",
      "we got san\"\n",
      "jay and chubbo, shout to gibo\n",
      "we got sant the same and we gone\n",
      "and i'm a real you get the carse and the six\n",
      "i need someone that i got a stang\n",
      "we gon' tire the street things\n",
      "i don't have to be the start the bitches\n",
      "i got a lotta like the start to my posile\n",
      "i got the care that shit the same and the same and the way the carse and the same that i don't want you wanna wanna go\n",
      "the start is like the best that shit and the same and the start t\n",
      "----- diversity: 0.5\n",
      "----- Generating with seed: \"jay and chubbo, shout to gibo\n",
      "we got san\"\n",
      "jay and chubbo, shout to gibo\n",
      "we got sant go wanna don't really nice\n",
      "i know the trust so comebrease when shout it was day to my bitches the same\n",
      "i can't have to me a wey i could dran the creal\n",
      "and better with me on my closer\n",
      "i'm concene\n",
      "i hoeld to be slowin' back in a missing\n",
      "look for the worry the liy let the six\n",
      "the long a lotta when she still the talk\n",
      "we don't wanna wanna be the end of my came\n",
      "i just wanna don't heard the pick up you\n",
      "Epoch 9/30\n",
      "124857/124857 [==============================] - 124s 991us/step - loss: 1.3418\n",
      "----- Generating text after Epoch: 8\n",
      "----- diversity: 0.2\n",
      "----- Generating with seed: \"e threw a party\n",
      "i was just calling cause\"\n",
      "e threw a party\n",
      "i was just calling cause it but in the count that i got the same\n",
      "i got the come that you know it i can't have to the last the things that i say you know it i know they know what i got the bottom now you not the come\n",
      "you can't be like a start to the same that you can't be the things in the same that you know the summer who i be a bold the same that i got the count now\n",
      "i said i don't think i got the world of me\n",
      "i know it i\n",
      "----- diversity: 0.5\n",
      "----- Generating with seed: \"e threw a party\n",
      "i was just calling cause\"\n",
      "e threw a party\n",
      "i was just calling cause i'm the from me\n",
      "i don't take the house i'm take you what they be a phone\n",
      "the when you can't say to the crast splay i planse\n",
      "i could've been purp to my langually if i said i know it i stay a monter\n",
      "that's the family things that shit that i can in the way be the things of when you can't play it\n",
      "they gon' think i got the cout that i got the came and still is the way back to the way that we don't nev\n",
      "Epoch 10/30\n",
      "124857/124857 [==============================] - 125s 1000us/step - loss: 1.3268\n",
      "----- Generating text after Epoch: 9\n",
      "----- diversity: 0.2\n",
      "----- Generating with seed: \"hit is unreal\n",
      "that ain't how it works, t\"\n",
      "hit is unreal\n",
      "that ain't how it works, they know you want the still i say the still be nothin' that's the skill the still be all my teal\n",
      "i need some really think about the streets the streets the still be the still be all the still been all my top and have something in the same\n",
      "i got the same and i got a really think all the things i say i say i say it all the money to me\n",
      "i got the same and i say you say it we gon' take the things i got\n",
      "----- diversity: 0.5\n",
      "----- Generating with seed: \"hit is unreal\n",
      "that ain't how it works, t\"\n",
      "hit is unreal\n",
      "that ain't how it works, turn it for me\n",
      "i showe we got a showe them \"they think already\n",
      "they never have so in well commat you fane\n",
      "and i'm hell you see this my realinal\n",
      "i was really have this day back to spend the more clang\n",
      "i'm talkin' on specties\n",
      "i need to, have somethin' big right now\n",
      "i get it i know you want to it but bether been me\n",
      "i'm talking me and you still been have don't wout to get some thing think i'm still me \n",
      "Epoch 11/30\n",
      "124857/124857 [==============================] - 130s 1ms/step - loss: 1.3124\n",
      "----- Generating text after Epoch: 10\n",
      "----- diversity: 0.2\n",
      "----- Generating with seed: \" dick like a soldier\n",
      "she rode it like a \"\n",
      " dick like a soldier\n",
      "she rode it like a lot of the cars\n",
      "i don't even trip some they don't even take the cars\n",
      "i got a couple that shit was when you can tell you the only was a lot of my niggas\n",
      "i got the crash they gon' think it going on me on the cash\n",
      "i don't take my protiend to the crease\n",
      "i say you say that shit go\n",
      "oh you fanced my six to get it\n",
      "you don't even take the cars they don't even take my let the call\n",
      "i say"
     ]
    }
   ],
   "source": [
    "print_callback = LambdaCallback(on_epoch_end=on_epoch_end)\n",
    "\n",
    "model.fit(\n",
    "    x, \n",
    "    y,\n",
    "    batch_size=128,\n",
    "    epochs=30,\n",
    "    callbacks=[print_callback]\n",
    ")"
   ]
  },
  {
   "cell_type": "code",
   "execution_count": null,
   "metadata": {},
   "outputs": [],
   "source": [
    "def generate_output():\n",
    "    generated = ''\n",
    "    #sentence = text[start_index: start_index + Tx]\n",
    "    #sentence = '0'*Tx\n",
    "    usr_input = input(\"Write the beginning of your poem, the Shakespeare machine will complete it. Your input is: \")\n",
    "    # zero pad the sentence to Tx characters.\n",
    "    sentence = ('{0:0>' + str(Tx) + '}').format(usr_input).lower()\n",
    "    generated += usr_input \n",
    "\n",
    "    sys.stdout.write(\"\\n\\nHere is your poem: \\n\\n\") \n",
    "    sys.stdout.write(usr_input)\n",
    "    for i in range(400):\n",
    "\n",
    "        x_pred = np.zeros((1, Tx, len(chars)))\n",
    "\n",
    "        for t, char in enumerate(sentence):\n",
    "            if char != '0':\n",
    "                x_pred[0, t, char_indices[char]] = 1.\n",
    "\n",
    "        preds = model.predict(x_pred, verbose=0)[0]\n",
    "        next_index = sample(preds, temperature = 0.2)\n",
    "        next_char = indices_char[next_index]\n",
    "\n",
    "        generated += next_char\n",
    "        sentence = sentence[1:] + next_char\n",
    "\n",
    "        sys.stdout.write(next_char)\n",
    "        sys.stdout.flush()\n",
    "\n",
    "        if next_char == '\\n':\n",
    "            continue"
   ]
  },
  {
   "cell_type": "code",
   "execution_count": null,
   "metadata": {},
   "outputs": [],
   "source": [
    "Tx = 40\n",
    "generate_output()"
   ]
  },
  {
   "cell_type": "code",
   "execution_count": null,
   "metadata": {},
   "outputs": [],
   "source": [
    "import utils.py"
   ]
  },
  {
   "cell_type": "code",
   "execution_count": null,
   "metadata": {},
   "outputs": [],
   "source": [
    "save_model_weights()"
   ]
  }
 ],
 "metadata": {
  "kernelspec": {
   "display_name": "Python 3",
   "language": "python",
   "name": "python3"
  },
  "language_info": {
   "codemirror_mode": {
    "name": "ipython",
    "version": 3
   },
   "file_extension": ".py",
   "mimetype": "text/x-python",
   "name": "python",
   "nbconvert_exporter": "python",
   "pygments_lexer": "ipython3",
   "version": "3.5.2"
  }
 },
 "nbformat": 4,
 "nbformat_minor": 2
}
